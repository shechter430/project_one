{
 "cells": [
  {
   "cell_type": "code",
   "execution_count": 1,
   "metadata": {},
   "outputs": [],
   "source": [
    "%matplotlib notebook"
   ]
  },
  {
   "cell_type": "code",
   "execution_count": 2,
   "metadata": {},
   "outputs": [],
   "source": [
    "import matplotlib.pyplot as plt\n",
    "import pandas as pd\n",
    "import scipy.stats as st\n",
    "import numpy as np"
   ]
  },
  {
   "cell_type": "code",
   "execution_count": 3,
   "metadata": {},
   "outputs": [],
   "source": [
    "covid_data = \"resources/bexar_county.csv\"\n",
    "\n",
    "data = pd.read_csv(covid_data)"
   ]
  },
  {
   "cell_type": "code",
   "execution_count": 4,
   "metadata": {},
   "outputs": [
    {
     "data": {
      "text/html": [
       "<div>\n",
       "<style scoped>\n",
       "    .dataframe tbody tr th:only-of-type {\n",
       "        vertical-align: middle;\n",
       "    }\n",
       "\n",
       "    .dataframe tbody tr th {\n",
       "        vertical-align: top;\n",
       "    }\n",
       "\n",
       "    .dataframe thead th {\n",
       "        text-align: right;\n",
       "    }\n",
       "</style>\n",
       "<table border=\"1\" class=\"dataframe\">\n",
       "  <thead>\n",
       "    <tr style=\"text-align: right;\">\n",
       "      <th></th>\n",
       "      <th>OBJECTID</th>\n",
       "      <th>ZIP_CODE</th>\n",
       "      <th>populationtotals_totpop_cy</th>\n",
       "      <th>Positive</th>\n",
       "      <th>CasesP100000</th>\n",
       "      <th>ZipInt</th>\n",
       "      <th>ActiveCases</th>\n",
       "      <th>ActiveCaseRate</th>\n",
       "      <th>SHAPE_Length</th>\n",
       "      <th>SHAPE_Area</th>\n",
       "    </tr>\n",
       "  </thead>\n",
       "  <tbody>\n",
       "    <tr>\n",
       "      <th>0</th>\n",
       "      <td>1</td>\n",
       "      <td>78002</td>\n",
       "      <td>9061</td>\n",
       "      <td>872</td>\n",
       "      <td>9623.661847</td>\n",
       "      <td>78002</td>\n",
       "      <td>93</td>\n",
       "      <td>1026.376780</td>\n",
       "      <td>0.427542</td>\n",
       "      <td>0.009546</td>\n",
       "    </tr>\n",
       "    <tr>\n",
       "      <th>1</th>\n",
       "      <td>2</td>\n",
       "      <td>78006</td>\n",
       "      <td>5243</td>\n",
       "      <td>223</td>\n",
       "      <td>4253.290101</td>\n",
       "      <td>78006</td>\n",
       "      <td>22</td>\n",
       "      <td>419.607095</td>\n",
       "      <td>0.552725</td>\n",
       "      <td>0.005416</td>\n",
       "    </tr>\n",
       "    <tr>\n",
       "      <th>2</th>\n",
       "      <td>4</td>\n",
       "      <td>78015</td>\n",
       "      <td>12254</td>\n",
       "      <td>529</td>\n",
       "      <td>4316.957728</td>\n",
       "      <td>78015</td>\n",
       "      <td>47</td>\n",
       "      <td>383.548229</td>\n",
       "      <td>0.278955</td>\n",
       "      <td>0.002312</td>\n",
       "    </tr>\n",
       "    <tr>\n",
       "      <th>3</th>\n",
       "      <td>5</td>\n",
       "      <td>78023</td>\n",
       "      <td>29569</td>\n",
       "      <td>1615</td>\n",
       "      <td>5461.801211</td>\n",
       "      <td>78023</td>\n",
       "      <td>132</td>\n",
       "      <td>446.413474</td>\n",
       "      <td>0.886455</td>\n",
       "      <td>0.017922</td>\n",
       "    </tr>\n",
       "    <tr>\n",
       "      <th>4</th>\n",
       "      <td>7</td>\n",
       "      <td>78052</td>\n",
       "      <td>699</td>\n",
       "      <td>24</td>\n",
       "      <td>3433.476395</td>\n",
       "      <td>78052</td>\n",
       "      <td>2</td>\n",
       "      <td>286.123033</td>\n",
       "      <td>0.260085</td>\n",
       "      <td>0.001147</td>\n",
       "    </tr>\n",
       "  </tbody>\n",
       "</table>\n",
       "</div>"
      ],
      "text/plain": [
       "   OBJECTID  ZIP_CODE  populationtotals_totpop_cy  Positive  CasesP100000  \\\n",
       "0         1     78002                        9061       872   9623.661847   \n",
       "1         2     78006                        5243       223   4253.290101   \n",
       "2         4     78015                       12254       529   4316.957728   \n",
       "3         5     78023                       29569      1615   5461.801211   \n",
       "4         7     78052                         699        24   3433.476395   \n",
       "\n",
       "   ZipInt  ActiveCases  ActiveCaseRate  SHAPE_Length  SHAPE_Area  \n",
       "0   78002           93     1026.376780      0.427542    0.009546  \n",
       "1   78006           22      419.607095      0.552725    0.005416  \n",
       "2   78015           47      383.548229      0.278955    0.002312  \n",
       "3   78023          132      446.413474      0.886455    0.017922  \n",
       "4   78052            2      286.123033      0.260085    0.001147  "
      ]
     },
     "execution_count": 4,
     "metadata": {},
     "output_type": "execute_result"
    }
   ],
   "source": [
    "data.head()"
   ]
  },
  {
   "cell_type": "code",
   "execution_count": null,
   "metadata": {},
   "outputs": [],
   "source": []
  },
  {
   "cell_type": "code",
   "execution_count": null,
   "metadata": {},
   "outputs": [],
   "source": []
  }
 ],
 "metadata": {
  "kernelspec": {
   "display_name": "Python [conda env:PythonData] *",
   "language": "python",
   "name": "conda-env-PythonData-py"
  },
  "language_info": {
   "codemirror_mode": {
    "name": "ipython",
    "version": 3
   },
   "file_extension": ".py",
   "mimetype": "text/x-python",
   "name": "python",
   "nbconvert_exporter": "python",
   "pygments_lexer": "ipython3",
   "version": "3.6.10"
  }
 },
 "nbformat": 4,
 "nbformat_minor": 4
}
